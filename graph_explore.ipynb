{
 "cells": [
  {
   "cell_type": "markdown",
   "metadata": {},
   "source": [
    "## Exploring the graph using pyTigerGraph: https://pytigergraph.github.io/pyTigerGraph/"
   ]
  },
  {
   "cell_type": "code",
   "execution_count": 1,
   "metadata": {},
   "outputs": [],
   "source": [
    "import pyTigerGraph as tg"
   ]
  },
  {
   "cell_type": "code",
   "execution_count": 2,
   "metadata": {},
   "outputs": [],
   "source": [
    "HOST = \"https://product-review.i.tgcloud.io\"\n",
    "GRAPHNAME = \"productGraph\"\n",
    "USERNAME = \"tigergraph\"\n",
    "PASSWORD = \"tigergraph\""
   ]
  },
  {
   "cell_type": "code",
   "execution_count": 3,
   "metadata": {},
   "outputs": [],
   "source": [
    "#connect to tigergraph \n",
    "conn = tg.TigerGraphConnection(HOST, GRAPHNAME, USERNAME, PASSWORD)\n",
    "conn.apiToken = conn.getToken(conn.createSecret())"
   ]
  },
  {
   "cell_type": "code",
   "execution_count": 4,
   "metadata": {},
   "outputs": [
    {
     "data": {
      "text/plain": [
       "{'Config': {'TAGGABLE': False,\n",
       "  'STATS': 'OUTDEGREE_BY_EDGETYPE',\n",
       "  'PRIMARY_ID_AS_ATTRIBUTE': True},\n",
       " 'IsLocal': True,\n",
       " 'Attributes': [{'AttributeType': {'Name': 'STRING'},\n",
       "   'IsPartOfCompositeKey': False,\n",
       "   'PrimaryIdAsAttribute': False,\n",
       "   'AttributeName': 'name',\n",
       "   'HasIndex': False,\n",
       "   'internalAttribute': False,\n",
       "   'IsPrimaryKey': False},\n",
       "  {'AttributeType': {'Name': 'STRING'},\n",
       "   'IsPartOfCompositeKey': False,\n",
       "   'PrimaryIdAsAttribute': False,\n",
       "   'AttributeName': 'imageURLs',\n",
       "   'HasIndex': False,\n",
       "   'internalAttribute': False,\n",
       "   'IsPrimaryKey': False}],\n",
       " 'PrimaryId': {'AttributeType': {'Name': 'STRING'},\n",
       "  'IsPartOfCompositeKey': False,\n",
       "  'PrimaryIdAsAttribute': True,\n",
       "  'AttributeName': 'id',\n",
       "  'HasIndex': False,\n",
       "  'internalAttribute': False,\n",
       "  'IsPrimaryKey': False},\n",
       " 'Name': 'Product'}"
      ]
     },
     "execution_count": 4,
     "metadata": {},
     "output_type": "execute_result"
    }
   ],
   "source": [
    "conn.getVertexType(\"Product\") "
   ]
  },
  {
   "cell_type": "code",
   "execution_count": 5,
   "metadata": {},
   "outputs": [
    {
     "data": {
      "text/plain": [
       "{'Product': {}, 'Category': {}, 'User': {}, 'ImageURL': {}}"
      ]
     },
     "execution_count": 5,
     "metadata": {},
     "output_type": "execute_result"
    }
   ],
   "source": [
    "conn.getVertexStats(\"*\")"
   ]
  },
  {
   "cell_type": "code",
   "execution_count": 9,
   "metadata": {},
   "outputs": [
    {
     "data": {
      "text/plain": [
       "[{'re': [{'v_id': 'Brad',\n",
       "    'v_type': 'User',\n",
       "    'attributes': {'id': 'Brad', '@numReviews': 7}},\n",
       "   {'v_id': 'Matt',\n",
       "    'v_type': 'User',\n",
       "    'attributes': {'id': 'Matt', '@numReviews': 7}},\n",
       "   {'v_id': 'Mike',\n",
       "    'v_type': 'User',\n",
       "    'attributes': {'id': 'Mike', '@numReviews': 7}},\n",
       "   {'v_id': 'Tablet',\n",
       "    'v_type': 'User',\n",
       "    'attributes': {'id': 'Tablet', '@numReviews': 6}},\n",
       "   {'v_id': 'Robert',\n",
       "    'v_type': 'User',\n",
       "    'attributes': {'id': 'Robert', '@numReviews': 6}}]}]"
      ]
     },
     "execution_count": 9,
     "metadata": {},
     "output_type": "execute_result"
    }
   ],
   "source": [
    "#Running queries\n",
    "queryname = \"mostReviews\"\n",
    "conn.runInstalledQuery(queryname, params={'k': 5}, timeout=None, sizeLimit=None)"
   ]
  }
 ],
 "metadata": {
  "interpreter": {
   "hash": "e3f8783f5e01c5a4bd706ef2649215ac344e5b5c0b6e4926b4f5cc5f5fd3217d"
  },
  "kernelspec": {
   "display_name": "Python 3 (ipykernel)",
   "language": "python",
   "name": "python3"
  },
  "language_info": {
   "codemirror_mode": {
    "name": "ipython",
    "version": 3
   },
   "file_extension": ".py",
   "mimetype": "text/x-python",
   "name": "python",
   "nbconvert_exporter": "python",
   "pygments_lexer": "ipython3",
   "version": "3.9.7"
  }
 },
 "nbformat": 4,
 "nbformat_minor": 2
}
